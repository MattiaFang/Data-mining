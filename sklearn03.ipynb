{
 "cells": [
  {
   "cell_type": "code",
   "execution_count": 1,
   "metadata": {},
   "outputs": [],
   "source": [
    "import numpy as np"
   ]
  },
  {
   "cell_type": "code",
   "execution_count": 2,
   "metadata": {},
   "outputs": [],
   "source": [
    "import matplotlib.pyplot as plt"
   ]
  },
  {
   "cell_type": "code",
   "execution_count": 3,
   "metadata": {},
   "outputs": [],
   "source": [
    "X = np.array([[6],[8],[10],[14],[18]]).reshape(-1,1) #X表示我们的训练数据的特征，即披萨的直径\n",
    "y = [7, 9, 13, 17.5, 18]                             #y是一个表示披萨价格的向量"
   ]
  },
  {
   "cell_type": "code",
   "execution_count": 8,
   "metadata": {},
   "outputs": [
    {
     "data": {
      "image/png": "[encoded data removed]",
      "text/plain": [
       "<Figure size 432x288 with 1 Axes>"
      ]
     },
     "metadata": {
      "needs_background": "light"
     },
     "output_type": "display_data"
    }
   ],
   "source": [
    "plt.figure()\n",
    "plt.title('Pizza price plotted against diameter')\n",
    "plt.xlabel('Diameter in inches')\n",
    "plt.ylabel('Price in dollars')\n",
    "plt.plot(X, y, 'k.')\n",
    "plt.axis([0,25,0,25])\n",
    "plt.grid(True)\n",
    "plt.show()"
   ]
  },
  {
   "cell_type": "markdown",
   "metadata": {},
   "source": [
    "使用matplotlib作图来将训练数据可视化"
   ]
  },
  {
   "cell_type": "code",
   "execution_count": 10,
   "metadata": {},
   "outputs": [
    {
     "data": {
      "text/plain": [
       "LinearRegression(copy_X=True, fit_intercept=True, n_jobs=None, normalize=False)"
      ]
     },
     "execution_count": 10,
     "metadata": {},
     "output_type": "execute_result"
    }
   ],
   "source": [
    "from sklearn.linear_model import LinearRegression\n",
    "model = LinearRegression()\n",
    "model.fit(X,y)"
   ]
  },
  {
   "cell_type": "markdown",
   "metadata": {},
   "source": [
    "创建一个估计器实例，用训练数据拟合模型"
   ]
  },
  {
   "cell_type": "code",
   "execution_count": 13,
   "metadata": {},
   "outputs": [
    {
     "name": "stdout",
     "output_type": "stream",
     "text": [
      "A 12\" pizza should cost:$13.68\n"
     ]
    }
   ],
   "source": [
    "test_pizza = np.array([[12]])\n",
    "predicted_price = model.predict(test_pizza)[0]\n",
    "print('A 12\" pizza should cost:$%.2f' % predicted_price)"
   ]
  },
  {
   "cell_type": "markdown",
   "metadata": {},
   "source": [
    "预测一个直径之前从未见过的披萨的价格"
   ]
  },
  {
   "cell_type": "markdown",
   "metadata": {},
   "source": [
    "#### LinearRegression类是一个估计器\n",
    "估计器基于观测到的数据预测一个值\n",
    "#### 在sklearn中，所有的估计器都实现了fit方法和predict方法\n",
    "前者用于学习模型的参数，后者使用学习到的参数来预测一个解释变量对应的响应变量值\n",
    "#### LinearRegression的fit方法学习了（公式2.1）简单线性回归模型\n",
    "利用训练数据学习产生最佳拟合模型的简单线性回归的参数值称为普通最小二乘（OLS）或线性最小二乘。"
   ]
  },
  {
   "cell_type": "markdown",
   "metadata": {},
   "source": [
    "## **用代价函数评价模型的拟合性**"
   ]
  },
  {
   "cell_type": "markdown",
   "metadata": {},
   "source": [
    "通过最小化残差的和来生成模型，这种衡量模型的方法叫做残差平方和（RSS）代价函数"
   ]
  },
  {
   "cell_type": "code",
   "execution_count": 15,
   "metadata": {},
   "outputs": [
    {
     "name": "stdout",
     "output_type": "stream",
     "text": [
      "Residual sum of square :1.75\n"
     ]
    }
   ],
   "source": [
    "print('Residual sum of square :%.2f' % np.mean((model.predict(X)-y) **2))"
   ]
  },
  {
   "cell_type": "markdown",
   "metadata": {},
   "source": [
    "现在我们有一个代价函数，可以通过求这个函数的极小值来找到模型的参数值。"
   ]
  },
  {
   "cell_type": "markdown",
   "metadata": {},
   "source": [
    "## **求解简单线性回归的OLS**"
   ]
  },
  {
   "cell_type": "markdown",
   "metadata": {},
   "source": [
    "简单线性回归由方程y=α+βx给出，而我们的目标是通过求代价函数的极小值来求解β和α的值。\n",
    "首先我们要解出β值，为了达到目的，我们要将计算x的方差以及x和y的协方差。"
   ]
  },
  {
   "cell_type": "code",
   "execution_count": 16,
   "metadata": {},
   "outputs": [],
   "source": [
    "import numpy as np"
   ]
  },
  {
   "cell_type": "code",
   "execution_count": 17,
   "metadata": {},
   "outputs": [
    {
     "name": "stdout",
     "output_type": "stream",
     "text": [
      "11.2\n",
      "23.2\n"
     ]
    }
   ],
   "source": [
    "X = np.array([[6],[8],[10],[14],[18]]).reshape(-1,1)\n",
    "x_bar = X.mean()\n",
    "print(x_bar)\n",
    "#注意我们在计算样本方差的时候将样本的数量减去1\n",
    "#这项技巧称为贝塞尔校正，它纠正了对样本中总体方差估计的偏差\n",
    "variance=((X-x_bar)**2).sum() / (X.shape[0]-1)\n",
    "print(variance)"
   ]
  },
  {
   "cell_type": "markdown",
   "metadata": {},
   "source": [
    "Numpy库也提供了一个叫做var的方法来计算方差。计算样本方差时关键字参数ddof可以设置贝塞尔校正。"
   ]
  },
  {
   "cell_type": "code",
   "execution_count": 18,
   "metadata": {},
   "outputs": [
    {
     "name": "stdout",
     "output_type": "stream",
     "text": [
      "23.2\n"
     ]
    }
   ],
   "source": [
    "print(np.var(X,ddof=1))"
   ]
  },
  {
   "cell_type": "markdown",
   "metadata": {},
   "source": [
    "#### 协方差用来衡量两个变量如何一同变化\n",
    "如果变量一起增加，它们的协方差为正  \n",
    "如果一个变量增加另一个变量减少，它们的协方差为负  \n",
    "如果两个变量之间没有线性关系，它们的协方差为零，它们是线性无关的但不一定是相互独立的"
   ]
  },
  {
   "cell_type": "code",
   "execution_count": 19,
   "metadata": {},
   "outputs": [
    {
     "name": "stdout",
     "output_type": "stream",
     "text": [
      "22.65\n",
      "22.65\n"
     ]
    }
   ],
   "source": [
    "y=np.array([7,9,13,17.5,18])\n",
    "y_bar=y.mean()\n",
    "#我们将x转置，因为所有操作都必须是行向量\n",
    "convariance=np.multiply((X-x_bar).transpose(),y-y_bar).sum()/(X.shape[0]-1)\n",
    "print(convariance)\n",
    "print(np.cov(X.transpose(),y)[0][1])"
   ]
  },
  {
   "attachments": {
    "image.png": {
     "image/png": "[encoded data removed]"
    }
   },
   "cell_type": "markdown",
   "metadata": {},
   "source": [
    "![image.png](attachment:image.png)"
   ]
  },
  {
   "cell_type": "markdown",
   "metadata": {},
   "source": [
    "现在我们已经计算出了解释变量的方差以及解释变量和响应变量之间的协方差  \n",
    "β= con（x，y）/ var（x）  \n",
    "α= 平方y - β* 平方x"
   ]
  },
  {
   "cell_type": "markdown",
   "metadata": {},
   "source": [
    "## 评价模型"
   ]
  },
  {
   "cell_type": "markdown",
   "metadata": {},
   "source": [
    "我们已经使用了一种学习算法从训练数据中估计出了模型的参数，  \n",
    "我们如何评估模型是否很好地表达了现实中解释变量和响应变量之间的关系呢？  \n",
    "我们可以使用一些衡量方法来评估模型的预测能力。\n",
    "在此我们使用一种叫做R方的方法来评估披萨价格预测器。  \n",
    "#### R方，也被称为决定系数，它用来衡量数据和回归线的贴近程度。  \n",
    "计算R方的方法有多种，在简单线性回归模型中，R方等于皮尔森积差相关系数（PPMCC）的平方，也被称为皮尔森相关系数r的平方。"
   ]
  },
  {
   "cell_type": "code",
   "execution_count": 21,
   "metadata": {},
   "outputs": [],
   "source": [
    "import numpy as np\n",
    "from sklearn.linear_model import LinearRegression"
   ]
  },
  {
   "cell_type": "code",
   "execution_count": 22,
   "metadata": {},
   "outputs": [],
   "source": [
    "X_train = np.array([6,8,10,14,18]).reshape(-1,1)\n",
    "y_train =[7,9,13,17.5,18]"
   ]
  },
  {
   "cell_type": "code",
   "execution_count": 23,
   "metadata": {},
   "outputs": [],
   "source": [
    "X_test= np.array([8,9,11,16,12]).reshape(-1,1)\n",
    "y_test= [11,8.5,15,18,11]"
   ]
  },
  {
   "cell_type": "code",
   "execution_count": 25,
   "metadata": {},
   "outputs": [
    {
     "name": "stdout",
     "output_type": "stream",
     "text": [
      "0.6620052929422553\n"
     ]
    }
   ],
   "source": [
    "model =LinearRegression()\n",
    "model.fit(X_train,y_train)\n",
    "r_squared=model.score(X_test,y_test)\n",
    "print(r_squared)"
   ]
  }
 ],
 "metadata": {
  "kernelspec": {
   "display_name": "Python 3",
   "language": "python",
   "name": "python3"
  },
  "language_info": {
   "codemirror_mode": {
    "name": "ipython",
    "version": 3
   },
   "file_extension": ".py",
   "mimetype": "text/x-python",
   "name": "python",
   "nbconvert_exporter": "python",
   "pygments_lexer": "ipython3",
   "version": "3.7.4"
  }
 },
 "nbformat": 4,
 "nbformat_minor": 4
}
