{
 "cells": [
  {
   "cell_type": "markdown",
   "metadata": {},
   "source": [
    "## **KNN模型回归**"
   ]
  },
  {
   "cell_type": "markdown",
   "metadata": {},
   "source": [
    "再次使用系数来衡量回归模型的性能，并引入两个用于衡量回归任务性能的新指标——**平均绝对误差（MAE）** 和**均方误差（MSE）**"
   ]
  },
  {
   "cell_type": "code",
   "execution_count": 1,
   "metadata": {},
   "outputs": [],
   "source": [
    "import numpy as np\n",
    "from sklearn.neighbors import KNeighborsRegressor\n",
    "from sklearn.metrics import mean_absolute_error,mean_squared_error,r2_score"
   ]
  },
  {
   "cell_type": "code",
   "execution_count": 17,
   "metadata": {},
   "outputs": [],
   "source": [
    "X_train = np.array([\n",
    "    [158,1],\n",
    "    [170,1],\n",
    "    [183,1],\n",
    "    [191,1],\n",
    "    [155,0],\n",
    "    [163,0],\n",
    "    [180,0],\n",
    "    [158,0],\n",
    "    [170,0]\n",
    "])\n",
    "y_train = [64,86,84,80,49,59,67,54,67]"
   ]
  },
  {
   "cell_type": "code",
   "execution_count": 18,
   "metadata": {},
   "outputs": [],
   "source": [
    "X_test=np.array([\n",
    "    [168,1],\n",
    "    [180,1],\n",
    "    [160,0],\n",
    "    [169,0]\n",
    "])\n",
    "y_test=[65,96,52,67]"
   ]
  },
  {
   "cell_type": "code",
   "execution_count": 4,
   "metadata": {},
   "outputs": [
    {
     "name": "stdout",
     "output_type": "stream",
     "text": [
      "Predicted weights:[70.66666667 79.         59.         70.66666667]\n",
      "Coefficient of determination:0.6290565226735438\n",
      "Mean absolute error:8.333333333333336\n",
      "Mean squared error:95.8888888888889\n"
     ]
    }
   ],
   "source": [
    "K=3\n",
    "clf=KNeighborsRegressor(n_neighbors=K)\n",
    "clf.fit(X_train,y_train)\n",
    "predictions = clf.predict(X_test)\n",
    "print('Predicted weights:%s'%predictions)\n",
    "print('Coefficient of determination:%s'%r2_score(y_test,predictions))    #决定系数\n",
    "print('Mean absolute error:%s'%mean_absolute_error(y_test,predictions))  #平均绝对误差\n",
    "print('Mean squared error:%s'%mean_squared_error(y_test,predictions))    #均方误差"
   ]
  },
  {
   "cell_type": "markdown",
   "metadata": {},
   "source": [
    "## **特征缩放**"
   ]
  },
  {
   "cell_type": "code",
   "execution_count": 5,
   "metadata": {},
   "outputs": [],
   "source": [
    "from scipy.spatial.distance import euclidean"
   ]
  },
  {
   "cell_type": "code",
   "execution_count": 10,
   "metadata": {},
   "outputs": [
    {
     "name": "stdout",
     "output_type": "stream",
     "text": [
      "60.0\n",
      "40.01249804748511\n"
     ]
    }
   ],
   "source": [
    "#heights in millimeters\n",
    "X_train = np.array([\n",
    "    [1700,1],\n",
    "    [1600,0]\n",
    "])\n",
    "x_test=np.array([1640,1]).reshape(1,-1)\n",
    "print(euclidean(X_train[0,:],x_test))\n",
    "print(euclidean(X_train[1,:],x_test))"
   ]
  },
  {
   "cell_type": "code",
   "execution_count": 14,
   "metadata": {},
   "outputs": [
    {
     "name": "stdout",
     "output_type": "stream",
     "text": [
      "0.06000000000000005\n",
      "1.0007996802557444\n"
     ]
    }
   ],
   "source": [
    "#height in meters\n",
    "X_train = np.array([\n",
    "    [1.7,1],\n",
    "    [1.6,0]\n",
    "])\n",
    "x_test=np.array([1.64,1]).reshape(1,-1)\n",
    "print(euclidean(X_train[0,:],x_test))\n",
    "print(euclidean(X_train[1,:],x_test))"
   ]
  },
  {
   "cell_type": "markdown",
   "metadata": {},
   "source": [
    "StandardScaler类是一个用于特征缩放的转换器，它能确保所有的特征都有单位方差。  \n",
    "均值为0，方差为1的数据称为标准化数据。\n",
    "## 把上面的回归问题特征做标准化处理"
   ]
  },
  {
   "cell_type": "code",
   "execution_count": 15,
   "metadata": {},
   "outputs": [],
   "source": [
    "from sklearn.preprocessing import StandardScaler"
   ]
  },
  {
   "cell_type": "code",
   "execution_count": 19,
   "metadata": {},
   "outputs": [
    {
     "name": "stdout",
     "output_type": "stream",
     "text": [
      "[[158   1]\n",
      " [170   1]\n",
      " [183   1]\n",
      " [191   1]\n",
      " [155   0]\n",
      " [163   0]\n",
      " [180   0]\n",
      " [158   0]\n",
      " [170   0]]\n",
      "[[-0.9908706   1.11803399]\n",
      " [ 0.01869567  1.11803399]\n",
      " [ 1.11239246  1.11803399]\n",
      " [ 1.78543664  1.11803399]\n",
      " [-1.24326216 -0.89442719]\n",
      " [-0.57021798 -0.89442719]\n",
      " [ 0.86000089 -0.89442719]\n",
      " [-0.9908706  -0.89442719]\n",
      " [ 0.01869567 -0.89442719]]\n"
     ]
    }
   ],
   "source": [
    "ss = StandardScaler()\n",
    "X_train_scaled = ss.fit_transform(X_train)\n",
    "print(X_train)\n",
    "print(X_train_scaled)"
   ]
  },
  {
   "cell_type": "code",
   "execution_count": 22,
   "metadata": {},
   "outputs": [
    {
     "name": "stdout",
     "output_type": "stream",
     "text": [
      "Coefficient of determination:0.6706425961745109\n",
      "Mean absolute error:7.583333333333336\n",
      "Mean squared error:85.13888888888893\n"
     ]
    }
   ],
   "source": [
    "X_test_scaled=ss.transform(X_test)\n",
    "clf.fit(X_train_scaled,y_train)\n",
    "predictions=clf.predict(X_test_scaled)\n",
    "print('Coefficient of determination:%s'%r2_score(y_test,predictions))\n",
    "print('Mean absolute error:%s'%mean_absolute_error(y_test,predictions))\n",
    "print('Mean squared error:%s' % mean_squared_error(y_test,predictions))"
   ]
  },
  {
   "cell_type": "markdown",
   "metadata": {},
   "source": [
    "我们的模型在标准化数据上性能表现更加。表示性别的特征对实例之间的距离计算贡献更大，这让模型能做出更好的预测。"
   ]
  }
 ],
 "metadata": {
  "kernelspec": {
   "display_name": "Python 3",
   "language": "python",
   "name": "python3"
  },
  "language_info": {
   "codemirror_mode": {
    "name": "ipython",
    "version": 3
   },
   "file_extension": ".py",
   "mimetype": "text/x-python",
   "name": "python",
   "nbconvert_exporter": "python",
   "pygments_lexer": "ipython3",
   "version": "3.7.4"
  }
 },
 "nbformat": 4,
 "nbformat_minor": 4
}
